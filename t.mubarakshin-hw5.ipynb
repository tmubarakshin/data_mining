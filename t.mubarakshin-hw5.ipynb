{
 "cells": [
  {
   "cell_type": "markdown",
   "metadata": {
    "collapsed": true
   },
   "source": [
    "# Домашнее задание 5. Линейные модели"
   ]
  },
  {
   "cell_type": "code",
   "execution_count": 136,
   "metadata": {
    "collapsed": false
   },
   "outputs": [
    {
     "name": "stdout",
     "output_type": "stream",
     "text": [
      "Populating the interactive namespace from numpy and matplotlib\n"
     ]
    }
   ],
   "source": [
    "import random as pr\n",
    "import numpy as np\n",
    "import pandas as pd\n",
    "import matplotlib.pylab as pl\n",
    "import sklearn.cross_validation as cv\n",
    "import sklearn.metrics as sm\n",
    "import sklearn.linear_model as lm\n",
    "import sklearn.utils as su\n",
    "\n",
    "\n",
    "# Plotting config\n",
    "%pylab inline"
   ]
  },
  {
   "cell_type": "code",
   "execution_count": 4,
   "metadata": {
    "collapsed": true
   },
   "outputs": [],
   "source": [
    "data = np.load(\"out_4.dat.npz\")\n",
    "users = data[\"users\"]\n",
    "X_dataset = data[\"data\"].reshape(1,)[0]"
   ]
  },
  {
   "cell_type": "code",
   "execution_count": 5,
   "metadata": {
    "collapsed": true
   },
   "outputs": [],
   "source": [
    "TRAINING_SET_URL = \"twitter_train.txt\"\n",
    "EXAMPLE_SET_URL = \"twitter_example.txt\"\n",
    "df_users_train = pd.read_csv(TRAINING_SET_URL, sep=\",\", header=0)\n",
    "df_users_ex = pd.read_csv(EXAMPLE_SET_URL, sep=\",\", header=0)\n",
    "df_users_ex['cat'] = None\n",
    "df_users = pd.concat([df_users_train, df_users_ex])"
   ]
  },
  {
   "cell_type": "code",
   "execution_count": 6,
   "metadata": {
    "collapsed": true
   },
   "outputs": [],
   "source": [
    "train_users = df_users_train[\"uid\"].values\n",
    "ix = np.in1d(users, train_users).reshape(users.shape)\n",
    "X = X_dataset[np.where(ix)]"
   ]
  },
  {
   "cell_type": "code",
   "execution_count": 32,
   "metadata": {
    "collapsed": false
   },
   "outputs": [
    {
     "name": "stdout",
     "output_type": "stream",
     "text": [
      "Resulting training set: (4930x1033002) feature matrix, 4930 target vector\n"
     ]
    }
   ],
   "source": [
    "Y = df_users_train[df_users_train['uid'].isin(users)]['cat'].values\n",
    "print \"Resulting training set: (%dx%d) feature matrix, %d target vector\" % (X.shape[0], X.shape[1], Y.shape[0])"
   ]
  },
  {
   "cell_type": "markdown",
   "metadata": {},
   "source": [
    "Убедимся, что распределение частоты признаков соответствует закону Ципфа:"
   ]
  },
  {
   "cell_type": "code",
   "execution_count": 33,
   "metadata": {
    "collapsed": false
   },
   "outputs": [
    {
     "name": "stdout",
     "output_type": "stream",
     "text": [
      "X axis from 1 to 5357.0\n",
      "Y axis from 0.5 to 720414.2\n"
     ]
    },
    {
     "data": {
      "image/png": "[encoded data removed]",
      "text/plain": [
       "<matplotlib.figure.Figure at 0xac95de4c>"
      ]
     },
     "metadata": {},
     "output_type": "display_data"
    }
   ],
   "source": [
    "def draw_log_hist(X):\n",
    "    features_counts = np.array((X > 0).sum(axis=0)).ravel() # frequency of each feature\n",
    "    tmp_x, tmp_y = np.unique(features_counts, return_counts=True) # frequency and amount\n",
    "    plt.figure(figsize=(12, 12))\n",
    "    plt.xscale('log') # transform to log axis\n",
    "    plt.yscale('log')\n",
    "    plt.xlim(1, tmp_x.max() * 1.1)\n",
    "    plt.ylim(0.5, tmp_y.max() * 1.1) # 0.5 for better visibility\n",
    "    print \"X axis from\", 1, \"to\", tmp_x.max() * 1.1\n",
    "    print \"Y axis from\", 0.5, \"to\", tmp_y.max() * 1.1\n",
    "    plt.scatter(tmp_x, tmp_y, c = 'b', linewidths = 0, alpha = 0.75)\n",
    "    plt.show()\n",
    "    \n",
    "    return features_counts.astype(np.int)\n",
    "\n",
    "features_counts = draw_log_hist(X)"
   ]
  },
  {
   "cell_type": "markdown",
   "metadata": {},
   "source": [
    "Отсеем действительно часто встречающиеся признаки (больше 100):"
   ]
  },
  {
   "cell_type": "code",
   "execution_count": 59,
   "metadata": {
    "collapsed": false,
    "scrolled": true
   },
   "outputs": [],
   "source": [
    "X1 = X.tocsc()[:, features_counts > 100].toarray()"
   ]
  },
  {
   "cell_type": "code",
   "execution_count": 11,
   "metadata": {
    "collapsed": false
   },
   "outputs": [
    {
     "name": "stdout",
     "output_type": "stream",
     "text": [
      "My homework 5 algorithm is: Logistic regression with L1 regularization optimized by stochastic gradient descent\n"
     ]
    }
   ],
   "source": [
    "USER_NAME = \"t.mubarakshin\"\n",
    "OPTIMIZATION_ALGORITHMS = [\"stochastic gradient descent\", \"Newton method\"]\n",
    "REGULARIZATIONS = [\"L1\", \"L2\"]\n",
    "\n",
    "print \"My homework 5 algorithm is: Logistic regression with %s regularization optimized by %s\" % (\n",
    "    REGULARIZATIONS[hash(USER_NAME) % 2],\n",
    "    OPTIMIZATION_ALGORITHMS[hash(USER_NAME[::-1]) % 2]\n",
    ")"
   ]
  },
  {
   "cell_type": "code",
   "execution_count": 12,
   "metadata": {
    "collapsed": true
   },
   "outputs": [],
   "source": [
    "def sigm_func(x):\n",
    "    return 1.0 / (1.0 + np.exp(-x))"
   ]
  },
  {
   "cell_type": "code",
   "execution_count": 251,
   "metadata": {
    "collapsed": false
   },
   "outputs": [],
   "source": [
    "class LogisticRegression():\n",
    "    \n",
    "    def __init__(self, C = 1, max_it = 30000, eps = 0.001, step = 0.5):\n",
    "        self.C = C\n",
    "        self.max_it = max_it\n",
    "        self.eps = eps\n",
    "        self.step = step # not the real step, we use it for  eta = it_num ** (-step)\n",
    "        \n",
    "    def grad_desc(self, w0, X, Y, C):\n",
    "        grad = np.dot(X,(sigm_func(np.dot(X.T, w0)) - Y))/ X.shape[0]\n",
    "        grad += float(C) * np.abs(w0) / X.shape[0]\n",
    "        return grad\n",
    "        \n",
    "    def fit(self, X, Y):\n",
    "        X = np.hstack((np.ones((X.shape[0], 1)), X))\n",
    "        it_num = 1\n",
    "        if Y.ndim == 1:\n",
    "            Y = Y[:,np.newaxis]\n",
    "        self.w0 = np.zeros((X.shape[1], 1)) # initial approximation\n",
    "        while True:\n",
    "            eta = it_num ** (-self.step)\n",
    "            rand_num = pr.randint(0,X.shape[0]-1)\n",
    "            X_new = X[rand_num]\n",
    "            X_new = X_new[:,np.newaxis]\n",
    "            grad = self.grad_desc(self.w0, X_new, Y[rand_num], self.C)\n",
    "            self.w0 -= eta * grad\n",
    "            it_num += 1\n",
    "            if it_num > self.max_it or np.all(np.abs(eta * grad) < self.eps):\n",
    "                break\n",
    "        print \"Iterations:\",it_num\n",
    "        \n",
    "        return self\n",
    "    \n",
    "    def predict_proba(self, X):\n",
    "        X = np.hstack((np.ones((X.shape[0], 1)), X))\n",
    "        return sigm_func(np.dot(X, self.w0))"
   ]
  },
  {
   "cell_type": "markdown",
   "metadata": {},
   "source": [
    "Функция, возвращающая TPR, FPR и площадь под ROC-кривой:"
   ]
  },
  {
   "cell_type": "code",
   "execution_count": 256,
   "metadata": {
    "collapsed": true
   },
   "outputs": [],
   "source": [
    "def auroc(y_prob, y_true):\n",
    "    fpr, tpr, thresholds = sm.roc_curve(y_true, y_prob)\n",
    "    return tpr, fpr, np.trapz(tpr, fpr)"
   ]
  },
  {
   "cell_type": "markdown",
   "metadata": {},
   "source": [
    "Определим наилучший параметр регуляризации:"
   ]
  },
  {
   "cell_type": "code",
   "execution_count": 253,
   "metadata": {
    "collapsed": false,
    "scrolled": true
   },
   "outputs": [
    {
     "name": "stdout",
     "output_type": "stream",
     "text": [
      "Iterations: 378\n",
      "Accuracy: 0.493914807302\n",
      "C: 0.0 AUC: 0.50562875336\n",
      "------------------------------\n",
      "Iterations: 993\n",
      "Accuracy: 0.490872210953\n",
      "C: 0.01 AUC: 0.508975134699\n",
      "------------------------------\n",
      "Iterations: 993\n",
      "Accuracy: 0.487829614604\n",
      "C: 0.1 AUC: 0.508295979815\n",
      "------------------------------\n",
      "Iterations: 1209\n",
      "Accuracy: 0.478701825558\n",
      "C: 1 AUC: 0.481228570605\n",
      "------------------------------\n",
      "Iterations: 1891\n",
      "Accuracy: 0.503042596349\n",
      "C: 10 AUC: 0.530806877164\n",
      "------------------------------\n",
      "Iterations: 1616\n",
      "Accuracy: 0.516227180527\n",
      "C: 100 AUC: 0.510333444468\n",
      "------------------------------\n",
      "Iterations: 30001\n",
      "Accuracy: 0.51014198783\n",
      "C: 1000 AUC: 0.5\n",
      "------------------------------\n",
      "Iterations: 30001\n",
      "Accuracy: 0.51014198783\n",
      "C: 10000 AUC: 0.5\n",
      "------------------------------\n",
      "4\n"
     ]
    }
   ],
   "source": [
    "C = [0.0, 0.01, 0.1, 1, 10, 100, 1000, 10000]\n",
    "\n",
    "def select_reg_parameter(C, X, Y):\n",
    "    X_train, X_test, Y_train, Y_test = cv.train_test_split(X, Y, test_size = 0.2)\n",
    "    best_score = 0\n",
    "    for c in C:\n",
    "        mod = LogisticRegression(c, eps = 0.00001)\n",
    "        mod.fit(X_train, Y_train)\n",
    "        probs = mod.predict_proba(X_test)\n",
    "        print \"Accuracy:\",sm.accuracy_score(Y_test, np.round(probs).astype(int))\n",
    "        tpr, fpr, cur_auc = auroc(probs, Y_test)\n",
    "        if cur_auc > best_score:\n",
    "            best_C = c\n",
    "            best_score = cur_auc\n",
    "        print \"C:\", c, \"AUC:\", cur_auc\n",
    "        print '-'*30\n",
    "    return C.index(best_C)\n",
    "\n",
    "index = select_reg_parameter(C, X1, Y)\n",
    "print index"
   ]
  },
  {
   "cell_type": "markdown",
   "metadata": {},
   "source": [
    "Ради интереса проверим работу классификатора из sklearn:"
   ]
  },
  {
   "cell_type": "code",
   "execution_count": 255,
   "metadata": {
    "collapsed": false
   },
   "outputs": [
    {
     "name": "stdout",
     "output_type": "stream",
     "text": [
      "0.496957403651\n"
     ]
    }
   ],
   "source": [
    "lg_sklearn = lm.LogisticRegression(penalty = 'l2', max_iter = 1000, solver = 'sag')\n",
    "X_train, X_test, Y_train, Y_test = cv.train_test_split(X1, Y, test_size = 0.2)\n",
    "lg_sklearn.fit(X_train, Y_train)\n",
    "Y_pred = lg_sklearn.predict(X_test)\n",
    "# print Y_pred\n",
    "print sm.accuracy_score(Y_test, Y_pred)"
   ]
  },
  {
   "cell_type": "markdown",
   "metadata": {},
   "source": [
    "Проверим алгоритм с наилучшим параметром регуляризации на тренировочной выборке:"
   ]
  },
  {
   "cell_type": "code",
   "execution_count": 288,
   "metadata": {
    "collapsed": false
   },
   "outputs": [
    {
     "name": "stdout",
     "output_type": "stream",
     "text": [
      "Iterations: 777\n",
      "Area under the ROC curve : 0.526097\n"
     ]
    }
   ],
   "source": [
    "def classify(X, Y, test_size, C):\n",
    "    X_train, X_test, Y_train, Y_test = cv.train_test_split(X, Y, test_size = test_size)\n",
    "    lr = LogisticRegression(C, eps = 0.00001)\n",
    "    lr.fit(X_train, Y_train)\n",
    "    Y_prob = lr.predict_proba(X_test)\n",
    "    tpr, fpr, roc_auc = auroc(Y_prob, Y_test)\n",
    "    return tpr, fpr, roc_auc\n",
    "\n",
    "tpr, fpr, roc_auc = classify(X1, Y, 0.3, C[index])\n",
    "\n",
    "print \"Area under the ROC curve : %f\" % roc_auc"
   ]
  },
  {
   "cell_type": "markdown",
   "metadata": {},
   "source": [
    "И построим ROC-кривую:"
   ]
  },
  {
   "cell_type": "code",
   "execution_count": 289,
   "metadata": {
    "collapsed": false
   },
   "outputs": [
    {
     "data": {
      "image/png": "[encoded data removed]",
      "text/plain": [
       "<matplotlib.figure.Figure at 0xaafcdacc>"
      ]
     },
     "metadata": {},
     "output_type": "display_data"
    }
   ],
   "source": [
    "def plot_roc_curve(tpr, fpr, roc_auc):\n",
    "    fig = plt.figure(figsize = (7, 7))\n",
    "    ax = fig.add_subplot(111)\n",
    "    ax.set_xlim([0, 1])\n",
    "    ax.set_ylim([0, 1])\n",
    "    plt.plot(fpr, tpr, color='red')\n",
    "    plt.plot([0, 1], [0, 1], color='black') # diagonal\n",
    "    pl.fill_between(fpr, tpr, alpha=0.25, color='blue')\n",
    "    pl.text(0.5, 0.3, \"AUC = %0.3f\" % roc_auc, fontsize=30)\n",
    "    plt.xlabel(\"FPR\", fontsize=13)\n",
    "    plt.ylabel(\"TPR\", fontsize=13)\n",
    "    plt.show()\n",
    "    \n",
    "    return\n",
    "\n",
    "plot_roc_curve(tpr, fpr, roc_auc)"
   ]
  },
  {
   "cell_type": "markdown",
   "metadata": {},
   "source": [
    "Теперь используем модель для классификации тестовых данных:"
   ]
  },
  {
   "cell_type": "code",
   "execution_count": 294,
   "metadata": {
    "collapsed": false
   },
   "outputs": [
    {
     "name": "stdout",
     "output_type": "stream",
     "text": [
      "Resulting test set: (1873x6288) feature matrix\n"
     ]
    }
   ],
   "source": [
    "ex_users = df_users_ex['uid'].values\n",
    "eix = np.in1d(users, ex_users).reshape(users.shape)\n",
    "ex_X = X_dataset[np.where(eix)]\n",
    "ex_X1 = ex_X.tocsc()[:, features_counts > 100].toarray()\n",
    "print \"Resulting test set: (%dx%d) feature matrix\" % (ex_X1.shape[0], ex_X1.shape[1])"
   ]
  },
  {
   "cell_type": "code",
   "execution_count": 295,
   "metadata": {
    "collapsed": false
   },
   "outputs": [
    {
     "name": "stdout",
     "output_type": "stream",
     "text": [
      "Iterations: 574\n"
     ]
    }
   ],
   "source": [
    "lr = LogisticRegression(C[index], eps = 0.00001)\n",
    "lr.fit(X1, Y)\n",
    "Y_pred = lr.predict_proba(ex_X1)"
   ]
  },
  {
   "cell_type": "code",
   "execution_count": 337,
   "metadata": {
    "collapsed": false
   },
   "outputs": [
    {
     "name": "stdout",
     "output_type": "stream",
     "text": [
      "Total 1873 written.\n",
      "Now add users without any info\n",
      "Total 25 unknown users written.\n"
     ]
    }
   ],
   "source": [
    "fpredict = open(\"predict.csv\", \"wt\")\n",
    "fpredict.write(\"uid,cat\\n\")\n",
    "count = 0\n",
    "for i in xrange(len(eix)):\n",
    "    if eix[i]:\n",
    "        fpredict.write(str(users[i]) + \",\" + str(float(Y_pred[count])) + \"\\n\")\n",
    "        count += 1\n",
    "print \"Total\", count, \"written.\"\n",
    "print \"Now add users without any info\"\n",
    "count = 0\n",
    "for i in df_users_ex['uid']:\n",
    "    if i not in users:\n",
    "        fpredict.write(str(i) + \",\" + str(pr.random()) + \"\\n\")\n",
    "        count += 1\n",
    "print \"Total\", count, \"unknown users written.\"\n",
    "fpredict.close()"
   ]
  }
 ],
 "metadata": {
  "kernelspec": {
   "display_name": "Python 2",
   "language": "python",
   "name": "python2"
  },
  "language_info": {
   "codemirror_mode": {
    "name": "ipython",
    "version": 2
   },
   "file_extension": ".py",
   "mimetype": "text/x-python",
   "name": "python",
   "nbconvert_exporter": "python",
   "pygments_lexer": "ipython2",
   "version": "2.7.10"
  }
 },
 "nbformat": 4,
 "nbformat_minor": 0
}
